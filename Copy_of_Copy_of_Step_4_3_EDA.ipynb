{
  "nbformat": 4,
  "nbformat_minor": 0,
  "metadata": {
    "anaconda-cloud": {},
    "kernelspec": {
      "display_name": "Python 3",
      "language": "python",
      "name": "python3"
    },
    "language_info": {
      "codemirror_mode": {
        "name": "ipython",
        "version": 3
      },
      "file_extension": ".py",
      "mimetype": "text/x-python",
      "name": "python",
      "nbconvert_exporter": "python",
      "pygments_lexer": "ipython3",
      "version": "3.7.1"
    },
    "colab": {
      "name": "Copy of Copy of Step_4_3_EDA.ipynb",
      "provenance": [],
      "toc_visible": true,
      "include_colab_link": true
    }
  },
  "cells": [
    {
      "cell_type": "markdown",
      "metadata": {
        "id": "view-in-github",
        "colab_type": "text"
      },
      "source": [
        "<a href=\"https://colab.research.google.com/github/Hanane98/Myfiles/blob/master/Copy_of_Copy_of_Step_4_3_EDA.ipynb\" target=\"_parent\"><img src=\"https://colab.research.google.com/assets/colab-badge.svg\" alt=\"Open In Colab\"/></a>"
      ]
    },
    {
      "cell_type": "markdown",
      "metadata": {
        "id": "6q7yWDW75gTP",
        "colab_type": "text"
      },
      "source": [
        "# Exploratory Data Analysis\n",
        "\n",
        "EDA is all about understanding your data by employing summarizing and visualizing techniques. At a high level, the EDA can be performed in two folds i.e., univariate analysis and multivariate analysis.\n",
        "Let's learn to consider an example data set to learn practically. \n",
        "\n",
        "\n",
        "### Iris Data\n",
        "\n",
        "Iris dataset is one of a well-known dataset used extensively in pattern recognition literature. It is hosted at the UC Irvine Machine Learning Repository. The data set contains petal length, petal width, sepal length and sepal width measurement for 3 types of Iris flowers i.e., Setosa, Versicolor, and Virginica."
      ]
    },
    {
      "cell_type": "code",
      "metadata": {
        "id": "M2XXrapu6MZo",
        "colab_type": "code",
        "colab": {}
      },
      "source": [
        "# Code to read csv file into Colaboratory:\n",
        "!pip install -U -q PyDrive\n",
        "import os\n",
        "from pydrive.auth import GoogleAuth\n",
        "from pydrive.drive import GoogleDrive\n",
        "from google.colab import auth\n",
        "from oauth2client.client import GoogleCredentials\n",
        "# Authenticate and create the PyDrive client.\n",
        "auth.authenticate_user()\n",
        "gauth = GoogleAuth()\n",
        "gauth.credentials = GoogleCredentials.get_application_default()\n",
        "drive = GoogleDrive(gauth)"
      ],
      "execution_count": 0,
      "outputs": []
    },
    {
      "cell_type": "code",
      "metadata": {
        "id": "OZw4jUgb6NJ1",
        "colab_type": "code",
        "colab": {}
      },
      "source": [
        "!pip install PyDrive\n",
        "\n",
        "\n",
        "from pydrive.auth import GoogleAuth\n",
        "from pydrive.drive import GoogleDrive\n",
        "from google.colab import auth\n",
        "from oauth2client.client import GoogleCredentials\n",
        "import os\n",
        "\n",
        "class download_data_from_folder(object):\n",
        "    def __init__(self,path):\n",
        "        path_id = path[path.find('id=')+3:]\n",
        "        self.file_list = self.get_files_in_location(path_id)\n",
        "        self.unwrap_data(self.file_list)\n",
        "    def get_files_in_location(self,folder_id):\n",
        "        file_list = drive.ListFile({'q': \"'{}' in parents and trashed=false\".format(folder_id)}).GetList()\n",
        "        return file_list\n",
        "    def unwrap_data(self,file_list,directory='.'):\n",
        "        for i, file in enumerate(file_list):\n",
        "            print(str((i + 1) / len(file_list) * 100) + '% done copying')\n",
        "            if file['mimeType'].find('folder') != -1:\n",
        "                if not os.path.exists(os.path.join(directory, file['title'])):\n",
        "                    os.makedirs(os.path.join(directory, file['title']))\n",
        "                print('Copying folder ' + os.path.join(directory, file['title']))\n",
        "                self.unwrap_data(self.get_files_in_location(file['id']), os.path.join(directory, file['title']))\n",
        "            else:\n",
        "                if not os.path.exists(os.path.join(directory, file['title'])):\n",
        "                    downloaded = drive.CreateFile({'id': file['id']})\n",
        "                    downloaded.GetContentFile(os.path.join(directory, file['title']))\n",
        "        return None"
      ],
      "execution_count": 0,
      "outputs": []
    },
    {
      "cell_type": "code",
      "metadata": {
        "id": "gk7_YSo_6Qe3",
        "colab_type": "code",
        "colab": {}
      },
      "source": [
        "data_path = 'https://drive.google.com/open?id=13hFQ09ptYr-Ud5xOJ0Xx4cV0akc1RnZw'\n",
        "download_data_from_folder(data_path)"
      ],
      "execution_count": 0,
      "outputs": []
    },
    {
      "cell_type": "code",
      "metadata": {
        "id": "QBLlWx6n5gTQ",
        "colab_type": "code",
        "colab": {}
      },
      "source": [
        "from IPython.display import Image\n",
        "Image(filename='Iris_Flower.png', width=500)"
      ],
      "execution_count": 0,
      "outputs": []
    },
    {
      "cell_type": "markdown",
      "metadata": {
        "id": "rIwHbigg5gTX",
        "colab_type": "text"
      },
      "source": [
        "### Load Data\n",
        "\n",
        "The Iris dataset comes as part of the scikit-learn dataset package which contains some of the populare datasets of machine learning literature."
      ]
    },
    {
      "cell_type": "code",
      "metadata": {
        "id": "QZJGirck5gTY",
        "colab_type": "code",
        "colab": {}
      },
      "source": [
        "import warnings\n",
        "warnings.filterwarnings('ignore')\n",
        "\n",
        "from sklearn import datasets\n",
        "import numpy as np\n",
        "\n",
        "iris = datasets.load_iris()"
      ],
      "execution_count": 0,
      "outputs": []
    },
    {
      "cell_type": "markdown",
      "metadata": {
        "collapsed": true,
        "id": "ZowUn25_5gTb",
        "colab_type": "text"
      },
      "source": [
        "### Exploratory Data Analysis\n",
        "\n",
        "EDA is all about understanding your data by employing summarizing and visualizing techniques."
      ]
    },
    {
      "cell_type": "code",
      "metadata": {
        "id": "tAqzAPvd5gTb",
        "colab_type": "code",
        "colab": {}
      },
      "source": [
        "import pandas as pd\n",
        "import matplotlib.pyplot as plt\n",
        "%matplotlib inline\n",
        "\n",
        "# Let's convert to dataframe\n",
        "iris = pd.DataFrame(data= np.c_[iris['data'], iris['target']],\n",
        "                     columns= iris['feature_names'] + ['species'])\n",
        "\n",
        "# let's remove spaces from column name\n",
        "iris.columns = iris.columns.str.replace(' ','')\n",
        "\n",
        "# replace the values with class labels\n",
        "iris.species = np.where(iris.species == 0.0, 'setosa', np.where(iris.species==1.0,'versicolor', 'virginica'))\n",
        "\n",
        "# data dimension \n",
        "print(iris.shape)\n",
        "\n",
        "# Peek at the 1st few records\n",
        "iris.head()"
      ],
      "execution_count": 0,
      "outputs": []
    },
    {
      "cell_type": "markdown",
      "metadata": {
        "id": "Lx75g8qJ5gTi",
        "colab_type": "text"
      },
      "source": [
        "### Univariate Analysis\n",
        "\n",
        "Individual variables are analyzed in isolation to get a better understanding of them. \n",
        "\n",
        "Pandas provide describe function to create summary statistics in tabular format for all variables. These statistics are very useful for the numerical type of variables to understand any quality issues such as missing value and presence of outliers."
      ]
    },
    {
      "cell_type": "code",
      "metadata": {
        "id": "uouHRFv25gTj",
        "colab_type": "code",
        "colab": {}
      },
      "source": [
        "iris.describe()"
      ],
      "execution_count": 0,
      "outputs": []
    },
    {
      "cell_type": "markdown",
      "metadata": {
        "id": "4qQY3tAk5gTq",
        "colab_type": "text"
      },
      "source": [
        "The columns 'species' is categorical, so lets check the frequency distribution for each category."
      ]
    },
    {
      "cell_type": "code",
      "metadata": {
        "id": "4YxgP1FY5gTr",
        "colab_type": "code",
        "colab": {}
      },
      "source": [
        "print(iris['species'].value_counts())"
      ],
      "execution_count": 0,
      "outputs": []
    },
    {
      "cell_type": "markdown",
      "metadata": {
        "id": "tZqrIx1H5gTu",
        "colab_type": "text"
      },
      "source": [
        "Pandas supports plotting functions to quick visualization on attributes. We can see from the plot that 'species' has 3 category with 50 records each."
      ]
    },
    {
      "cell_type": "code",
      "metadata": {
        "id": "gKaEQPjk5gTv",
        "colab_type": "code",
        "colab": {}
      },
      "source": [
        "# Set the size of the plot\n",
        "plt.figure(figsize=(15,8))\n",
        "\n",
        "iris.hist()        # plot histogram\n",
        "plt.suptitle(\"Histogram\", fontsize=12) # use suptitle to add title to all sublots\n",
        "plt.tight_layout(pad=1)\n",
        "plt.show()\n",
        "\n",
        "iris.boxplot()     # plot boxplot  \n",
        "plt.title(\"Bar Plot\", fontsize=16)\n",
        "plt.tight_layout(pad=1)\n",
        "plt.show()"
      ],
      "execution_count": 0,
      "outputs": []
    },
    {
      "cell_type": "markdown",
      "metadata": {
        "id": "DU7ESz695gTy",
        "colab_type": "text"
      },
      "source": [
        "### Multivariate Analysis\n",
        "\n",
        "In multivariate analysis you try to estabilish a sense of relationship of all variables with one other."
      ]
    },
    {
      "cell_type": "markdown",
      "metadata": {
        "id": "TbCYHiz09mWr",
        "colab_type": "text"
      },
      "source": [
        "Let’s determine the mean of each feature by species type"
      ]
    },
    {
      "cell_type": "code",
      "metadata": {
        "id": "AxzgPjij5gTz",
        "colab_type": "code",
        "colab": {}
      },
      "source": [
        "# We can quickly make a boxplot with Pandas on each feature split out by species\n",
        "iris.boxplot(by=\"species\", figsize=(12, 6))"
      ],
      "execution_count": 0,
      "outputs": []
    },
    {
      "cell_type": "code",
      "metadata": {
        "id": "ExZD34g55gT2",
        "colab_type": "code",
        "colab": {}
      },
      "source": [
        "# print the mean for each column by species\n",
        "iris.groupby(by = \"species\").mean()"
      ],
      "execution_count": 0,
      "outputs": []
    },
    {
      "cell_type": "code",
      "metadata": {
        "id": "UEWLzp-Z5gT7",
        "colab_type": "code",
        "colab": {}
      },
      "source": [
        "# plot for mean of each feature for each label class\n",
        "iris.groupby(by = \"species\").mean().plot(kind=\"bar\")\n",
        "\n",
        "plt.title('Class vs Measurements')\n",
        "plt.ylabel('mean measurement(cm)')\n",
        "plt.xticks(rotation=0)  # manage the xticks rotation\n",
        "plt.grid(True)\n",
        "\n",
        "# Use bbox_to_anchor option to place the legend outside plot area to be tidy \n",
        "plt.legend(loc=\"upper left\", bbox_to_anchor=(1,1))"
      ],
      "execution_count": 0,
      "outputs": []
    },
    {
      "cell_type": "markdown",
      "metadata": {
        "id": "Y61i_Od65gT-",
        "colab_type": "text"
      },
      "source": [
        "### Correlation matrix\n",
        "Correlation function uses Pearson correlation coefficient which results in a number between -1 to 1. Strong negative relationship is indicated by a coefficient is toward -1 and a strong positive correlation is indicated by a coefficient towards 1."
      ]
    },
    {
      "cell_type": "code",
      "metadata": {
        "id": "-_XZtOpA5gT-",
        "colab_type": "code",
        "colab": {}
      },
      "source": [
        "# create correlation matrix\n",
        "corr = iris.corr()\n",
        "print(corr)"
      ],
      "execution_count": 0,
      "outputs": []
    },
    {
      "cell_type": "code",
      "metadata": {
        "id": "XvOfcxam5gUD",
        "colab_type": "code",
        "colab": {}
      },
      "source": [
        "import statsmodels.api as sm\n",
        "sm.graphics.plot_corr(corr, xnames=list(corr.columns))\n",
        "plt.show()"
      ],
      "execution_count": 0,
      "outputs": []
    },
    {
      "cell_type": "markdown",
      "metadata": {
        "id": "m0mndf_V5gUG",
        "colab_type": "text"
      },
      "source": [
        "### Pair plot\n",
        "\n",
        "You can understnad the relationship attributes by looking at the distribution of the interactions of each pair of attributes\n",
        "\n",
        "This uses a built function to create a matrix of scatter plots of all attributes versus all attributes."
      ]
    },
    {
      "cell_type": "code",
      "metadata": {
        "id": "0eA1vyVE5gUH",
        "colab_type": "code",
        "colab": {}
      },
      "source": [
        "from pandas.plotting import scatter_matrix\n",
        "scatter_matrix(iris, figsize=(10, 10))\n",
        "plt.suptitle(\"Pair Plot\", fontsize=20) # use suptitle to add title to all sublots"
      ],
      "execution_count": 0,
      "outputs": []
    },
    {
      "cell_type": "markdown",
      "metadata": {
        "collapsed": true,
        "id": "7lXyinWq5gUK",
        "colab_type": "text"
      },
      "source": [
        "### Findings of EDA\n",
        "\n",
        "* There are no missing values\n",
        "* Sepal is longer than petal. Sepal length ranges between 4.3 to 7.9 with average lenth of 5.8, whereas petal length ranges between 1 to 6.9 with average length of 3.7\n",
        "* Sepal is also wider than petal. Sepal width ranges between 2 to 4.4 with a average width of 3.05, whereas petal width ranges between 0.1 to 2.5 with average width of 1.19\n",
        "\n",
        "* Average petal length of setosa is much smaller than versicolor and virginica, however the average sepal width of setosa is higher than versicolor and virginica\n",
        "\n",
        "* Petal length and width are strongly correlated i.e., 96% of the time width increases with increase in length\n",
        "\n",
        "* Petal length has negative correlation with sepal widht i.e., 42% of the time increase in sepal width will decrease petal length \n",
        "\n",
        "#### initial conclusion from data:\n",
        "Based on length and width of sepal/petal alone, you can conclude that versicolor/virginica might resemble in size, however setosa characteristics seems to be noticeably different from other two.\n",
        "\n",
        "### Let's look at the actual flowers to see if the finding makes sense!"
      ]
    },
    {
      "cell_type": "code",
      "metadata": {
        "id": "h0vhnbcw5gUL",
        "colab_type": "code",
        "colab": {}
      },
      "source": [
        "Image(filename='iris_photo.png', width=900)"
      ],
      "execution_count": 0,
      "outputs": []
    }
  ]
}